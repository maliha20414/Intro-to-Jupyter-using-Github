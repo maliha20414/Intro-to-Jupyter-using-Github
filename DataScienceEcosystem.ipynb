{
 "cells": [
  {
   "cell_type": "markdown",
   "id": "a157d337-4aae-46c9-8a42-c4e7251c1cd6",
   "metadata": {},
   "source": [
    "# Data Science Tools and Ecosystem\n",
    "In this notebook, Data Science Tools and Ecosystem are summarized.\n",
    "Some of the popular languages that Data Scientists use are:\n",
    "1. Python\n",
    "2. R programming\n",
    "3. c++\n",
    "\n"
   ]
  },
  {
   "cell_type": "markdown",
   "id": "3fe0ff25-025c-4f1f-895d-95d752de9271",
   "metadata": {},
   "source": [
    "<br>Some of the commonly used libraries used by Data Scientists include:\n",
    "1. Numpy\n",
    "2. Pandas\n",
    "3. Matplot"
   ]
  },
  {
   "cell_type": "markdown",
   "id": "bd93d5f6-f27f-45d3-a568-5382e46bc4ea",
   "metadata": {},
   "source": [
    "|Data Science Tools|\n",
    "-------------------\n",
    "|Python|\n",
    "|Github|\n",
    "|R studio|"
   ]
  },
  {
   "cell_type": "markdown",
   "id": "a9c466d3-e36d-4159-9cc7-c4cdd236a137",
   "metadata": {},
   "source": [
    "### Below are a few examples of evaluating arithmetic expressions in Python"
   ]
  },
  {
   "cell_type": "code",
   "execution_count": 1,
   "id": "5d014280-ba04-405b-a0e3-f01a52350a7d",
   "metadata": {
    "tags": []
   },
   "outputs": [
    {
     "data": {
      "text/plain": [
       "17"
      ]
     },
     "execution_count": 1,
     "metadata": {},
     "output_type": "execute_result"
    }
   ],
   "source": [
    "(3*4)+5 #This a simple arithmetic expression to mutiply then add integers"
   ]
  },
  {
   "cell_type": "code",
   "execution_count": 2,
   "id": "35584491-42fc-438f-8331-29a1a83e7092",
   "metadata": {
    "tags": []
   },
   "outputs": [
    {
     "data": {
      "text/plain": [
       "3.3333333333333335"
      ]
     },
     "execution_count": 2,
     "metadata": {},
     "output_type": "execute_result"
    }
   ],
   "source": [
    "200/60 #convert 200 minutes to hours"
   ]
  },
  {
   "cell_type": "markdown",
   "id": "b9c0e6ff-4efe-4af3-a0f1-228e93c24d63",
   "metadata": {},
   "source": [
    "**objectives**\n",
    "* list popular language for data science\n",
    "* learn about tools in data science\n",
    "* learn how to use github "
   ]
  },
  {
   "cell_type": "markdown",
   "id": "40711b69-6198-4ece-b93b-430db515bdf3",
   "metadata": {
    "tags": []
   },
   "source": [
    "## Author \n",
    "<br>Maliha Zerin"
   ]
  },
  {
   "cell_type": "code",
   "execution_count": null,
   "id": "ead4a8f4-bab1-4910-a00d-7a9bb8734df2",
   "metadata": {},
   "outputs": [],
   "source": []
  }
 ],
 "metadata": {
  "kernelspec": {
   "display_name": "Python",
   "language": "python",
   "name": "conda-env-python-py"
  },
  "language_info": {
   "codemirror_mode": {
    "name": "ipython",
    "version": 3
   },
   "file_extension": ".py",
   "mimetype": "text/x-python",
   "name": "python",
   "nbconvert_exporter": "python",
   "pygments_lexer": "ipython3",
   "version": "3.7.12"
  }
 },
 "nbformat": 4,
 "nbformat_minor": 5
}
